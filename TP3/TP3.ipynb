{
 "cells": [
  {
   "cell_type": "code",
   "execution_count": 149,
   "metadata": {
    "collapsed": true
   },
   "outputs": [],
   "source": [
    "r = 0.03;\n",
    "ech<-function(tx, matu, cap){\n",
    "    obli = c(tx, cap, matu, cap*tx)\n",
    "    return(obli);\n",
    "}"
   ]
  },
  {
   "cell_type": "code",
   "execution_count": 150,
   "metadata": {
    "collapsed": false
   },
   "outputs": [
    {
     "data": {
      "text/html": [
       "<ol class=list-inline>\n",
       "\t<li>0.03</li>\n",
       "\t<li>10000</li>\n",
       "\t<li>3</li>\n",
       "\t<li>300</li>\n",
       "</ol>\n"
      ],
      "text/latex": [
       "\\begin{enumerate*}\n",
       "\\item 0.03\n",
       "\\item 10000\n",
       "\\item 3\n",
       "\\item 300\n",
       "\\end{enumerate*}\n"
      ],
      "text/markdown": [
       "1. 0.03\n",
       "2. 10000\n",
       "3. 3\n",
       "4. 300\n",
       "\n",
       "\n"
      ],
      "text/plain": [
       "[1] 3e-02 1e+04 3e+00 3e+02"
      ]
     },
     "execution_count": 150,
     "metadata": {},
     "output_type": "execute_result"
    },
    {
     "ename": "ERROR",
     "evalue": "Error in obli[[2]]: subscript out of bounds\n",
     "output_type": "error",
     "traceback": [
      "Error in obli[[2]]: subscript out of bounds\n"
     ]
    },
    {
     "data": {
      "text/html": [
       "<ol class=list-inline>\n",
       "\t<li>10000</li>\n",
       "\t<li>20000</li>\n",
       "\t<li>15000</li>\n",
       "</ol>\n"
      ],
      "text/latex": [
       "\\begin{enumerate*}\n",
       "\\item 10000\n",
       "\\item 20000\n",
       "\\item 15000\n",
       "\\end{enumerate*}\n"
      ],
      "text/markdown": [
       "1. 10000\n",
       "2. 20000\n",
       "3. 15000\n",
       "\n",
       "\n"
      ],
      "text/plain": [
       "[1] 10000 20000 15000"
      ]
     },
     "execution_count": 150,
     "metadata": {},
     "output_type": "execute_result"
    }
   ],
   "source": [
    "e1 = ech(r, 3, 10000);\n",
    "e2 = ech(r, 3, 20000);\n",
    "e3 = ech(r, 5, 15000);\n",
    "e1;\n",
    "b = c(value(e1), value(e2), value(e3));\n",
    "vect = matrix(b);\n",
    "vect"
   ]
  },
  {
   "cell_type": "code",
   "execution_count": 151,
   "metadata": {
    "collapsed": true
   },
   "outputs": [],
   "source": [
    "#Fisher's formula\n",
    "value <- function(obli){\n",
    "    tx = obli[[1]];\n",
    "    cap = obli[[2]];\n",
    "    matu = obli[[3]];\n",
    "    flux = obli[[4]];\n",
    "    \n",
    "    tmp = 0;\n",
    "    \n",
    "    for (i in (1:matu)){\n",
    "        tmp = tmp + flux/(1+tx)^i;\n",
    "    }\n",
    "    tmp = tmp + cap/(1+tx)^matu;\n",
    "    return(tmp);\n",
    "}\n",
    "\n",
    "duration <- function(obli){\n",
    "    tx = obli[[1]];\n",
    "    cap = obli[[2]];\n",
    "    matu = obli[[3]];\n",
    "    flux = obli[[4]];\n",
    "    \n",
    "    tmp = 0;\n",
    "    \n",
    "     for (i in (1:matu)){\n",
    "        tmp = tmp + flux*i/(1+tx)^(i+1);\n",
    "    }\n",
    "    \n",
    "    res = -tmp/value(obli);\n",
    "    return(res);\n",
    "}\n",
    "\n",
    "sensibility <- function(obli){\n",
    "    tx = obli[[1]];\n",
    "    tmp = -duration(obli)/(1+tx);\n",
    "    return(tmp);\n",
    "}\n",
    "\n",
    "\n",
    "convexity <- function(obli){\n",
    "     tx = obli[[1]];\n",
    "    cap = obli[[2]];\n",
    "    matu = obli[[3]];\n",
    "    flux = obli[[4]];\n",
    "    \n",
    "    tmp = 0;\n",
    "    \n",
    "     for (i in (1:matu)){\n",
    "        tmp = tmp + flux*i*(1+i)/((1+tx)^(i+2));\n",
    "    }\n",
    "    \n",
    "    res = -tmp/value(obli);\n",
    "    return(res);\n",
    "}"
   ]
  },
  {
   "cell_type": "code",
   "execution_count": 152,
   "metadata": {
    "collapsed": false
   },
   "outputs": [
    {
     "data": {
      "text/html": [
       "10000"
      ],
      "text/latex": [
       "10000"
      ],
      "text/markdown": [
       "10000"
      ],
      "text/plain": [
       "[1] 10000"
      ]
     },
     "execution_count": 152,
     "metadata": {},
     "output_type": "execute_result"
    },
    {
     "data": {
      "text/html": [
       "-0.163150211147614"
      ],
      "text/latex": [
       "-0.163150211147614"
      ],
      "text/markdown": [
       "-0.163150211147614"
      ],
      "text/plain": [
       "[1] -0.1631502"
      ]
     },
     "execution_count": 152,
     "metadata": {},
     "output_type": "execute_result"
    },
    {
     "data": {
      "text/html": [
       "0.158398263250111"
      ],
      "text/latex": [
       "0.158398263250111"
      ],
      "text/markdown": [
       "0.158398263250111"
      ],
      "text/plain": [
       "[1] 0.1583983"
      ]
     },
     "execution_count": 152,
     "metadata": {},
     "output_type": "execute_result"
    },
    {
     "data": {
      "text/html": [
       "-0.525375330564313"
      ],
      "text/latex": [
       "-0.525375330564313"
      ],
      "text/markdown": [
       "-0.525375330564313"
      ],
      "text/plain": [
       "[1] -0.5253753"
      ]
     },
     "execution_count": 152,
     "metadata": {},
     "output_type": "execute_result"
    }
   ],
   "source": [
    "value(e1);\n",
    "duration(e1);\n",
    "sensibility(e1);\n",
    "convexity(e1);"
   ]
  },
  {
   "cell_type": "code",
   "execution_count": 153,
   "metadata": {
    "collapsed": true
   },
   "outputs": [],
   "source": [
    "cover <- function(obli1, obli2, obli3){\n",
    "    tmp = list(obli1, obli2, obli3);\n",
    "    return(tmp);\n",
    "}\n",
    "\n",
    "cov = cover(e1, e2, e3);\n",
    "\n",
    "mat <- function(couv){\n",
    "    n = length(cov);\n",
    "    \n",
    "    tmp = list();\n",
    "    \n",
    "    for(i in (1:n)){\n",
    "        v = value(couv[[i]]);\n",
    "        d = duration(couv[[i]]);\n",
    "        c = convexity(couv[[i]]);\n",
    "        tmp = append(tmp,list(v, d, c));\n",
    "    }\n",
    " \n",
    "    #mat = matrix(unlist(tmp));\n",
    "    return(tmp);\n",
    "}"
   ]
  },
  {
   "cell_type": "code",
   "execution_count": 155,
   "metadata": {
    "collapsed": false
   },
   "outputs": [
    {
     "ename": "ERROR",
     "evalue": "Error in matrix(c, ncol = 3, byrow = TRUE): unused arguments (ncol = 3, byrow = TRUE)\n",
     "output_type": "error",
     "traceback": [
      "Error in matrix(c, ncol = 3, byrow = TRUE): unused arguments (ncol = 3, byrow = TRUE)\n"
     ]
    },
    {
     "data": {
      "text/html": [
       "<table>\n",
       "<tbody>\n",
       "\t<tr><td>10000</td></tr>\n",
       "\t<tr><td>-0.1631502</td></tr>\n",
       "\t<tr><td>-0.5253753</td></tr>\n",
       "\t<tr><td>20000</td></tr>\n",
       "\t<tr><td>-0.1631502</td></tr>\n",
       "\t<tr><td>-0.5253753</td></tr>\n",
       "\t<tr><td>15000</td></tr>\n",
       "\t<tr><td>-0.3922859</td></tr>\n",
       "\t<tr><td>-1.759648</td></tr>\n",
       "</tbody>\n",
       "</table>\n"
      ],
      "text/latex": [
       "\\begin{tabular}{l}\n",
       "\t 10000\\\\\n",
       "\t -0.1631502\\\\\n",
       "\t -0.5253753\\\\\n",
       "\t 20000\\\\\n",
       "\t -0.1631502\\\\\n",
       "\t -0.5253753\\\\\n",
       "\t 15000\\\\\n",
       "\t -0.3922859\\\\\n",
       "\t -1.759648\\\\\n",
       "\\end{tabular}\n"
      ],
      "text/markdown": [
       "1. 10000\n",
       "2. -0.163150211147614\n",
       "3. -0.525375330564313\n",
       "4. 20000\n",
       "5. -0.163150211147614\n",
       "6. -0.525375330564313\n",
       "7. 15000\n",
       "8. -0.392285903776262\n",
       "9. -1.75964824478352\n",
       "\n",
       "\n"
      ],
      "text/plain": [
       "               [,1]\n",
       " [1,] 10000.0000000\n",
       " [2,]    -0.1631502\n",
       " [3,]    -0.5253753\n",
       " [4,] 20000.0000000\n",
       " [5,]    -0.1631502\n",
       " [6,]    -0.5253753\n",
       " [7,] 15000.0000000\n",
       " [8,]    -0.3922859\n",
       " [9,]    -1.7596482"
      ]
     },
     "execution_count": 155,
     "metadata": {},
     "output_type": "execute_result"
    }
   ],
   "source": [
    "tmp = mat(cov)\n",
    "\n",
    "c = unlist(tmp)\n",
    "A = matrix(c, ncol=3, byrow=TRUE);\n",
    "A"
   ]
  },
  {
   "cell_type": "code",
   "execution_count": null,
   "metadata": {
    "collapsed": true
   },
   "outputs": [],
   "source": []
  },
  {
   "cell_type": "code",
   "execution_count": null,
   "metadata": {
    "collapsed": true
   },
   "outputs": [],
   "source": []
  }
 ],
 "metadata": {
  "kernelspec": {
   "display_name": "R",
   "language": "R",
   "name": "ir"
  },
  "language_info": {
   "codemirror_mode": "r",
   "file_extension": ".r",
   "mimetype": "text/x-r-source",
   "name": "R",
   "pygments_lexer": "r",
   "version": "3.2.2"
  }
 },
 "nbformat": 4,
 "nbformat_minor": 0
}
