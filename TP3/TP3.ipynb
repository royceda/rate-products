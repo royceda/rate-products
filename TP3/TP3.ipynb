{
 "cells": [
  {
   "cell_type": "markdown",
   "metadata": {},
   "source": [
    "<h1>Test sur le cas LVMH</h1>\n",
    "Soit l'obligation:\n",
    "<ul>\n",
    "<li>nominal: 1000€</li>\n",
    "<li>prix emission: 995€</li>\n",
    "<li>durée:  8 ans</li>\n",
    "<li>rembourssement in fine</li>\n",
    "<li>taux nominal: 7%</li>\n",
    "<li>taux actuariel: %</li>\n",
    "</ul>"
   ]
  },
  {
   "cell_type": "code",
   "execution_count": 18,
   "metadata": {
    "collapsed": true
   },
   "outputs": [],
   "source": [
    "echinfine<-function(tx, matu, cap)\n",
    "{\n",
    "  #on suppose des flux constants\n",
    "  flux = cap*tx;\n",
    "  obli = c(tx, cap, matu, flux);\n",
    "  return(obli);\n",
    "}"
   ]
  },
  {
   "cell_type": "code",
   "execution_count": 30,
   "metadata": {
    "collapsed": false
   },
   "outputs": [],
   "source": [
    "prixactu<-function(obli, taux){\n",
    "  tx   = obli[1];\n",
    "  cap  = obli[2];\n",
    "  matu = obli[3];\n",
    "  flux = obli[4];\n",
    "  tmp = 0;\n",
    "\n",
    "  for(i in (1:matu)){\n",
    "    tmp = tmp + flux/(1 + taux)^i;\n",
    "  }\n",
    "  tmp = tmp + cap/(1 + taux)^matu\n",
    "  return(tmp);\n",
    "}"
   ]
  },
  {
   "cell_type": "code",
   "execution_count": 31,
   "metadata": {
    "collapsed": false
   },
   "outputs": [],
   "source": [
    "duration<-function(obli, taux)\n",
    "{\n",
    "  tx   = obli[1];\n",
    "  cap  = obli[2];\n",
    "  matu = obli[3];\n",
    "  flux = obli[4];\n",
    "\n",
    "  tmp1 = 0;\n",
    "  tmp2 = 0;\n",
    "\n",
    "  for(i in (1:matu)){\n",
    "    tmp1 = tmp1 + flux*i/(1+taux)^i;\n",
    "  }\n",
    "\n",
    "  for(i in (1:matu)){\n",
    "    tmp2 = tmp2 + flux/(1+taux)^i;\n",
    "  }\n",
    "\n",
    "  return(-tmp1/tmp2);\n",
    "}\n",
    "\n",
    "sensibilite<-function(obli,taux)\n",
    "{\n",
    "  tmp = -duration(obli, taux)/(1 + taux);\n",
    "  return(tmp);\n",
    "}"
   ]
  },
  {
   "cell_type": "code",
   "execution_count": 49,
   "metadata": {
    "collapsed": false
   },
   "outputs": [],
   "source": [
    "convexite<-function(obli, taux){\n",
    "  tx   = obli[1];\n",
    "  cap  = obli[2];\n",
    "  matu = obli[3];\n",
    "  flux = obli[4];\n",
    "\n",
    "  tmp1 = 0;\n",
    "  tmp2 = 0;\n",
    "\n",
    "  for(i in (1:matu)){\n",
    "    tmp1 = tmp1 + flux*i*(1+i)/(1+taux)^(i+2);\n",
    "  }\n",
    "  for(i in (1:matu)){\n",
    "    tmp2 = tmp2 + flux/(1+taux)^i;\n",
    "  }\n",
    "\n",
    "  return(tmp1/tmp2);\n",
    "}\n"
   ]
  },
  {
   "cell_type": "code",
   "execution_count": 50,
   "metadata": {
    "collapsed": false
   },
   "outputs": [
    {
     "data": {
      "text/html": [
       "<ol class=list-inline>\n",
       "\t<li>0.06</li>\n",
       "\t<li>1000</li>\n",
       "\t<li>10</li>\n",
       "\t<li>60</li>\n",
       "</ol>\n"
      ],
      "text/latex": [
       "\\begin{enumerate*}\n",
       "\\item 0.06\n",
       "\\item 1000\n",
       "\\item 10\n",
       "\\item 60\n",
       "\\end{enumerate*}\n"
      ],
      "text/markdown": [
       "1. 0.06\n",
       "2. 1000\n",
       "3. 10\n",
       "4. 60\n",
       "\n",
       "\n"
      ],
      "text/plain": [
       "[1] 6e-02 1e+03 1e+01 6e+01"
      ]
     },
     "execution_count": 50,
     "metadata": {},
     "output_type": "execute_result"
    }
   ],
   "source": [
    "obli = echinfine(0.06, 10, 1000);\n",
    "obli;"
   ]
  },
  {
   "cell_type": "code",
   "execution_count": 51,
   "metadata": {
    "collapsed": false
   },
   "outputs": [
    {
     "data": {
      "text/html": [
       "929.764184590674"
      ],
      "text/latex": [
       "929.764184590674"
      ],
      "text/markdown": [
       "929.764184590674"
      ],
      "text/plain": [
       "[1] 929.7642"
      ]
     },
     "execution_count": 51,
     "metadata": {},
     "output_type": "execute_result"
    }
   ],
   "source": [
    "prixactu(obli, 0.07)"
   ]
  },
  {
   "cell_type": "code",
   "execution_count": 52,
   "metadata": {
    "collapsed": false
   },
   "outputs": [
    {
     "data": {
      "text/html": [
       "-4.9460710389479"
      ],
      "text/latex": [
       "-4.9460710389479"
      ],
      "text/markdown": [
       "-4.9460710389479"
      ],
      "text/plain": [
       "[1] -4.946071"
      ]
     },
     "execution_count": 52,
     "metadata": {},
     "output_type": "execute_result"
    }
   ],
   "source": [
    "duration(obli, 0.07)"
   ]
  },
  {
   "cell_type": "code",
   "execution_count": 53,
   "metadata": {
    "collapsed": false
   },
   "outputs": [
    {
     "data": {
      "text/html": [
       "4.62249629808215"
      ],
      "text/latex": [
       "4.62249629808215"
      ],
      "text/markdown": [
       "4.62249629808215"
      ],
      "text/plain": [
       "[1] 4.622496"
      ]
     },
     "execution_count": 53,
     "metadata": {},
     "output_type": "execute_result"
    }
   ],
   "source": [
    "sensibilite(obli, 0.07)"
   ]
  },
  {
   "cell_type": "code",
   "execution_count": 54,
   "metadata": {
    "collapsed": false
   },
   "outputs": [
    {
     "data": {
      "text/html": [
       "32.7298294715494"
      ],
      "text/latex": [
       "32.7298294715494"
      ],
      "text/markdown": [
       "32.7298294715494"
      ],
      "text/plain": [
       "[1] 32.72983"
      ]
     },
     "execution_count": 54,
     "metadata": {},
     "output_type": "execute_result"
    }
   ],
   "source": [
    "convexite(obli, 0.07)"
   ]
  },
  {
   "cell_type": "code",
   "execution_count": 58,
   "metadata": {
    "collapsed": false
   },
   "outputs": [
    {
     "name": "stdout",
     "output_type": "stream",
     "text": [
      "[1] 6e-02 1e+03 1e+01 6e+01\n"
     ]
    }
   ],
   "source": [
    "print(obli)"
   ]
  },
  {
   "cell_type": "code",
   "execution_count": null,
   "metadata": {
    "collapsed": true
   },
   "outputs": [],
   "source": []
  }
 ],
 "metadata": {
  "kernelspec": {
   "display_name": "R",
   "language": "R",
   "name": "ir"
  },
  "language_info": {
   "codemirror_mode": "r",
   "file_extension": ".r",
   "mimetype": "text/x-r-source",
   "name": "R",
   "pygments_lexer": "r",
   "version": "3.2.2"
  }
 },
 "nbformat": 4,
 "nbformat_minor": 0
}
