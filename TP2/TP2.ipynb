{
 "cells": [
  {
   "cell_type": "code",
   "execution_count": 41,
   "metadata": {
    "collapsed": false
   },
   "outputs": [],
   "source": [
    "#E: real et fict sont des listes\n",
    "rate <-function(b, e, real, fict){\n",
    "    tmp = 0;\n",
    "    prod = 1;\n",
    "    for (i in (b:e)){\n",
    "        prod = prod * (1 + fict[[i]]);\n",
    "    }\n",
    "    tmp = ((1+real[[e]])**e)/prod -1;\n",
    "    return (tmp);\n",
    "\n",
    "    \n",
    "}"
   ]
  },
  {
   "cell_type": "code",
   "execution_count": 108,
   "metadata": {
    "collapsed": false
   },
   "outputs": [
    {
     "data": {
      "text/html": [
       "0.023"
      ],
      "text/latex": [
       "0.023"
      ],
      "text/markdown": [
       "0.023"
      ],
      "text/plain": [
       "[1] 0.023"
      ]
     },
     "execution_count": 108,
     "metadata": {},
     "output_type": "execute_result"
    },
    {
     "data": {
      "text/html": [
       "<table>\n",
       "<tbody>\n",
       "\t<tr><td>0.010</td><td>0.050</td><td>0.050</td><td>0.023</td><td>0.070</td></tr>\n",
       "</tbody>\n",
       "</table>\n"
      ],
      "text/latex": [
       "\\begin{tabular}{lllll}\n",
       "\t 0.010 & 0.050 & 0.050 & 0.023 & 0.070\\\\\n",
       "\\end{tabular}\n"
      ],
      "text/markdown": [
       "1. 0.01\n",
       "2. 0.05\n",
       "3. 0.05\n",
       "4. 0.023\n",
       "5. 0.07\n",
       "\n",
       "\n"
      ],
      "text/plain": [
       "     [,1] [,2] [,3]  [,4] [,5]\n",
       "[1,] 0.01 0.05 0.05 0.023 0.07"
      ]
     },
     "execution_count": 108,
     "metadata": {},
     "output_type": "execute_result"
    }
   ],
   "source": [
    "fict = list(0.01,0.042,0.02);\n",
    "e = 3;\n",
    "b = 1;\n",
    "real = list(0.01, 0.05, 0.05, 0.023)\n",
    "real = append(real,0.07)\n",
    "real[[4]]\n",
    "matrix(unlist(real), ncol = 5, byrow = TRUE)"
   ]
  },
  {
   "cell_type": "code",
   "execution_count": 109,
   "metadata": {
    "collapsed": false
   },
   "outputs": [
    {
     "data": {
      "text/html": [
       "0.0783969048366957"
      ],
      "text/latex": [
       "0.0783969048366957"
      ],
      "text/markdown": [
       "0.0783969048366957"
      ],
      "text/plain": [
       "[1] 0.0783969"
      ]
     },
     "execution_count": 109,
     "metadata": {},
     "output_type": "execute_result"
    }
   ],
   "source": [
    "rate(b, e, real, fict)"
   ]
  },
  {
   "cell_type": "code",
   "execution_count": 119,
   "metadata": {
    "collapsed": false
   },
   "outputs": [],
   "source": [
    "futur <- function(real, b, n){\n",
    "    fict = list();\n",
    "    for(i in (1:b)){\n",
    "        fict = append(fict, 0);\n",
    "    }\n",
    "    fict = append(fict, real[[b]]);\n",
    "    for (i in (b:n)){\n",
    "        tmp = rate(1, i, real, fict);\n",
    "        fict = append(fict, tmp);\n",
    "    }\n",
    "    #tab = matrix(unlist(fict), ncol = n+b);\n",
    "    return(fict);\n",
    "}"
   ]
  },
  {
   "cell_type": "code",
   "execution_count": 120,
   "metadata": {
    "collapsed": false
   },
   "outputs": [
    {
     "data": {
      "text/html": [
       "<ol>\n",
       "\t<li>0</li>\n",
       "\t<li>0.01</li>\n",
       "\t<li>0.01</li>\n",
       "\t<li>0.0915841584158417</li>\n",
       "\t<li>0.134815214194687</li>\n",
       "\t<li>-0.0164361394301884</li>\n",
       "\t<li>0.109925340637364</li>\n",
       "</ol>\n"
      ],
      "text/latex": [
       "\\begin{enumerate}\n",
       "\\item 0\n",
       "\\item 0.01\n",
       "\\item 0.01\n",
       "\\item 0.0915841584158417\n",
       "\\item 0.134815214194687\n",
       "\\item -0.0164361394301884\n",
       "\\item 0.109925340637364\n",
       "\\end{enumerate}\n"
      ],
      "text/markdown": [
       "1. 0\n",
       "2. 0.01\n",
       "3. 0.01\n",
       "4. 0.0915841584158417\n",
       "5. 0.134815214194687\n",
       "6. -0.0164361394301884\n",
       "7. 0.109925340637364\n",
       "\n",
       "\n"
      ],
      "text/plain": [
       "[[1]]\n",
       "[1] 0\n",
       "\n",
       "[[2]]\n",
       "[1] 0.01\n",
       "\n",
       "[[3]]\n",
       "[1] 0.01\n",
       "\n",
       "[[4]]\n",
       "[1] 0.09158416\n",
       "\n",
       "[[5]]\n",
       "[1] 0.1348152\n",
       "\n",
       "[[6]]\n",
       "[1] -0.01643614\n",
       "\n",
       "[[7]]\n",
       "[1] 0.1099253\n"
      ]
     },
     "execution_count": 120,
     "metadata": {},
     "output_type": "execute_result"
    }
   ],
   "source": [
    "futur(real, 1,5)"
   ]
  },
  {
   "cell_type": "code",
   "execution_count": null,
   "metadata": {
    "collapsed": true
   },
   "outputs": [],
   "source": []
  },
  {
   "cell_type": "code",
   "execution_count": null,
   "metadata": {
    "collapsed": true
   },
   "outputs": [],
   "source": []
  }
 ],
 "metadata": {
  "kernelspec": {
   "display_name": "R",
   "language": "R",
   "name": "ir"
  },
  "language_info": {
   "codemirror_mode": "r",
   "file_extension": ".r",
   "mimetype": "text/x-r-source",
   "name": "R",
   "pygments_lexer": "r",
   "version": "3.2.2"
  }
 },
 "nbformat": 4,
 "nbformat_minor": 0
}
