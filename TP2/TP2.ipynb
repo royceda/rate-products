{
 "cells": [
  {
   "cell_type": "code",
   "execution_count": 9,
   "metadata": {
    "collapsed": false
   },
   "outputs": [],
   "source": [
    "#E: real et fict sont des listes\n",
    "rate <-function(b, e, real, fict){\n",
    "    tmp = 0;\n",
    "    prod = 1;\n",
    "    for (i in (b:e)){\n",
    "        prod = prod * (1 + fict[[i]]);\n",
    "    }\n",
    "    tmp = ((1+real[e])**e)/prod -1;\n",
    "    return (tmp);  \n",
    "}"
   ]
  },
  {
   "cell_type": "code",
   "execution_count": 10,
   "metadata": {
    "collapsed": false
   },
   "outputs": [
    {
     "data": {
      "text/html": [
       "0.023"
      ],
      "text/latex": [
       "0.023"
      ],
      "text/markdown": [
       "0.023"
      ],
      "text/plain": [
       "[1] 0.023"
      ]
     },
     "execution_count": 10,
     "metadata": {},
     "output_type": "execute_result"
    }
   ],
   "source": [
    "fict = c(0.01,0.042,0.02);\n",
    "e = 3;\n",
    "b = 1;\n",
    "real = c(0.01, 0.05, 0.05, 0.023)\n",
    "real = append(real,0.07)\n",
    "real[4]\n",
    "#matrix(unlist(real), ncol = 5, byrow = TRUE)"
   ]
  },
  {
   "cell_type": "code",
   "execution_count": 11,
   "metadata": {
    "collapsed": false
   },
   "outputs": [
    {
     "data": {
      "text/html": [
       "0.0783969048366957"
      ],
      "text/latex": [
       "0.0783969048366957"
      ],
      "text/markdown": [
       "0.0783969048366957"
      ],
      "text/plain": [
       "[1] 0.0783969"
      ]
     },
     "execution_count": 11,
     "metadata": {},
     "output_type": "execute_result"
    }
   ],
   "source": [
    "rate(b, e, real, fict)"
   ]
  },
  {
   "cell_type": "code",
   "execution_count": 15,
   "metadata": {
    "collapsed": false
   },
   "outputs": [],
   "source": [
    "futur <- function(real, b, n){\n",
    "    fict = list();\n",
    "    for(i in (1:b)){\n",
    "        fict = append(fict, 0);\n",
    "    }\n",
    "    fict = append(fict, real[b]);\n",
    "    for (i in (b:n)){\n",
    "        tmp = rate(1, i, real, fict);\n",
    "        fict = append(fict, tmp);\n",
    "    }\n",
    "    #tab = matrix(unlist(fict));\n",
    "    return(fict);\n",
    "}\n",
    "\n",
    "\n",
    "\n",
    "\n",
    "triangle <- function(real, b, n){\n",
    "    l = length(real);\n",
    "    futur = futur(real,1,l);\n",
    "    for (i in (2:l)){\n",
    "        futur = rbind(futur, futur(real,i,l))\n",
    "    }\n",
    "    \n",
    "    #tab = matrix(unlist(liste));\n",
    "    return(futur);\n",
    "}"
   ]
  },
  {
   "cell_type": "code",
   "execution_count": 16,
   "metadata": {
    "collapsed": false
   },
   "outputs": [
    {
     "data": {
      "text/html": [
       "<ol>\n",
       "\t<li>0</li>\n",
       "\t<li>0.01</li>\n",
       "\t<li>0.01</li>\n",
       "\t<li>0.0915841584158417</li>\n",
       "\t<li>0.134815214194687</li>\n",
       "\t<li>-0.0164361394301884</li>\n",
       "\t<li>0.109925340637364</li>\n",
       "</ol>\n"
      ],
      "text/latex": [
       "\\begin{enumerate}\n",
       "\\item 0\n",
       "\\item 0.01\n",
       "\\item 0.01\n",
       "\\item 0.0915841584158417\n",
       "\\item 0.134815214194687\n",
       "\\item -0.0164361394301884\n",
       "\\item 0.109925340637364\n",
       "\\end{enumerate}\n"
      ],
      "text/markdown": [
       "1. 0\n",
       "2. 0.01\n",
       "3. 0.01\n",
       "4. 0.0915841584158417\n",
       "5. 0.134815214194687\n",
       "6. -0.0164361394301884\n",
       "7. 0.109925340637364\n",
       "\n",
       "\n"
      ],
      "text/plain": [
       "[[1]]\n",
       "[1] 0\n",
       "\n",
       "[[2]]\n",
       "[1] 0.01\n",
       "\n",
       "[[3]]\n",
       "[1] 0.01\n",
       "\n",
       "[[4]]\n",
       "[1] 0.09158416\n",
       "\n",
       "[[5]]\n",
       "[1] 0.1348152\n",
       "\n",
       "[[6]]\n",
       "[1] -0.01643614\n",
       "\n",
       "[[7]]\n",
       "[1] 0.1099253\n"
      ]
     },
     "execution_count": 16,
     "metadata": {},
     "output_type": "execute_result"
    },
    {
     "data": {
      "text/html": [
       "<table>\n",
       "<tbody>\n",
       "\t<tr><th scope=row>futur</th><td>0</td><td>0.01</td><td>0.01</td><td>0.09158416</td><td>0.1348152</td><td>-0.01643614</td><td>0.1099253</td></tr>\n",
       "\t<tr><th scope=row></th><td>0</td><td>0</td><td>0.05</td><td>0.1025</td><td>0.1025</td><td>-0.05390524</td><td>0.09893598</td></tr>\n",
       "\t<tr><th scope=row></th><td>0</td><td>0</td><td>0</td><td>0.05</td><td>0.157625</td><td>0.04306947</td><td>0.1538828</td></tr>\n",
       "\t<tr><th scope=row></th><td>0</td><td>0</td><td>0</td><td>0</td><td>0.023</td><td>0.09522295</td><td>0.3710183</td></tr>\n",
       "\t<tr><th scope=row></th><td>0</td><td>0</td><td>0</td><td>0</td><td>0</td><td>0.07</td><td>0.4025517</td></tr>\n",
       "</tbody>\n",
       "</table>\n"
      ],
      "text/latex": [
       "\\begin{tabular}{r|lllllll}\n",
       "\tfutur & 0 & 0.01 & 0.01 & 0.09158416 & 0.1348152 & -0.01643614 & 0.1099253\\\\\n",
       "\t & 0 & 0 & 0.05 & 0.1025 & 0.1025 & -0.05390524 & 0.09893598\\\\\n",
       "\t & 0 & 0 & 0 & 0.05 & 0.157625 & 0.04306947 & 0.1538828\\\\\n",
       "\t & 0 & 0 & 0 & 0 & 0.023 & 0.09522295 & 0.3710183\\\\\n",
       "\t & 0 & 0 & 0 & 0 & 0 & 0.07 & 0.4025517\\\\\n",
       "\\end{tabular}\n"
      ],
      "text/markdown": [
       "1. 0\n",
       "2. 0\n",
       "3. 0\n",
       "4. 0\n",
       "5. 0\n",
       "6. 0.01\n",
       "7. 0\n",
       "8. 0\n",
       "9. 0\n",
       "10. 0\n",
       "11. 0.01\n",
       "12. 0.05\n",
       "13. 0\n",
       "14. 0\n",
       "15. 0\n",
       "16. 0.0915841584158417\n",
       "17. 0.1025\n",
       "18. 0.05\n",
       "19. 0\n",
       "20. 0\n",
       "21. 0.134815214194687\n",
       "22. 0.1025\n",
       "23. 0.157625\n",
       "24. 0.023\n",
       "25. 0\n",
       "26. -0.0164361394301884\n",
       "27. -0.0539052388804669\n",
       "28. 0.0430694741342852\n",
       "29. 0.0952229478409996\n",
       "30. 0.07\n",
       "31. 0.109925340637364\n",
       "32. 0.0989359808290737\n",
       "33. 0.153882779870527\n",
       "34. 0.371018309579668\n",
       "35. 0.4025517307\n",
       "\n",
       "\n"
      ],
      "text/plain": [
       "      [,1] [,2] [,3] [,4]       [,5]      [,6]        [,7]      \n",
       "futur 0    0.01 0.01 0.09158416 0.1348152 -0.01643614 0.1099253 \n",
       "      0    0    0.05 0.1025     0.1025    -0.05390524 0.09893598\n",
       "      0    0    0    0.05       0.157625  0.04306947  0.1538828 \n",
       "      0    0    0    0          0.023     0.09522295  0.3710183 \n",
       "      0    0    0    0          0         0.07        0.4025517 "
      ]
     },
     "execution_count": 16,
     "metadata": {},
     "output_type": "execute_result"
    }
   ],
   "source": [
    "futur(real, 1,5)\n",
    "triangle(real, 1, 5);"
   ]
  },
  {
   "cell_type": "code",
   "execution_count": 14,
   "metadata": {
    "collapsed": false
   },
   "outputs": [
    {
     "data": {
      "text/html": [
       "<table>\n",
       "<tbody>\n",
       "\t<tr><th scope=row></th><td>1</td><td>2</td><td>3</td></tr>\n",
       "\t<tr><th scope=row></th><td>1</td><td>5</td><td>9</td></tr>\n",
       "\t<tr><th scope=row>e</th><td>15</td><td>47</td><td>87</td></tr>\n",
       "</tbody>\n",
       "</table>\n"
      ],
      "text/latex": [
       "\\begin{tabular}{r|lll}\n",
       "\t & 1 & 2 & 3\\\\\n",
       "\t & 1 & 5 & 9\\\\\n",
       "\te & 15 & 47 & 87\\\\\n",
       "\\end{tabular}\n"
      ],
      "text/markdown": [
       "1. 1\n",
       "2. 1\n",
       "3. 15\n",
       "4. 2\n",
       "5. 5\n",
       "6. 47\n",
       "7. 3\n",
       "8. 9\n",
       "9. 87\n",
       "\n",
       "\n"
      ],
      "text/plain": [
       "  [,1] [,2] [,3]\n",
       "     1    2    3\n",
       "     1    5    9\n",
       "e   15   47   87"
      ]
     },
     "execution_count": 14,
     "metadata": {},
     "output_type": "execute_result"
    }
   ],
   "source": [
    "e <- c(15,47,87)\n",
    "as.matrix(rbind(c(1,2,3), c(1,5,9),e))"
   ]
  },
  {
   "cell_type": "code",
   "execution_count": null,
   "metadata": {
    "collapsed": true
   },
   "outputs": [],
   "source": []
  }
 ],
 "metadata": {
  "kernelspec": {
   "display_name": "R",
   "language": "R",
   "name": "ir"
  },
  "language_info": {
   "codemirror_mode": "r",
   "file_extension": ".r",
   "mimetype": "text/x-r-source",
   "name": "R",
   "pygments_lexer": "r",
   "version": "3.2.2"
  }
 },
 "nbformat": 4,
 "nbformat_minor": 0
}
