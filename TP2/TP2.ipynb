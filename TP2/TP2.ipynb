{
 "cells": [
  {
   "cell_type": "code",
   "execution_count": 81,
   "metadata": {
    "collapsed": true
   },
   "outputs": [],
   "source": [
    "mat <- c(0.01, 0.03, 0.05, 0.09 )"
   ]
  },
  {
   "cell_type": "code",
   "execution_count": 82,
   "metadata": {
    "collapsed": false
   },
   "outputs": [
    {
     "name": "stderr",
     "output_type": "stream",
     "text": [
      "Warning message:\n",
      "In matrix(mat, nrow = 3): data length [4] is not a sub-multiple or multiple of the number of rows [3]"
     ]
    },
    {
     "data": {
      "text/html": [
       "<table>\n",
       "<tbody>\n",
       "\t<tr><td>0.01</td><td>0.09</td></tr>\n",
       "\t<tr><td>0.03</td><td>0.01</td></tr>\n",
       "\t<tr><td>0.05</td><td>0.03</td></tr>\n",
       "</tbody>\n",
       "</table>\n"
      ],
      "text/latex": [
       "\\begin{tabular}{ll}\n",
       "\t 0.01 & 0.09\\\\\n",
       "\t 0.03 & 0.01\\\\\n",
       "\t 0.05 & 0.03\\\\\n",
       "\\end{tabular}\n"
      ],
      "text/markdown": [
       "1. 0.01\n",
       "2. 0.03\n",
       "3. 0.05\n",
       "4. 0.09\n",
       "5. 0.01\n",
       "6. 0.03\n",
       "\n",
       "\n"
      ],
      "text/plain": [
       "     [,1] [,2]\n",
       "[1,] 0.01 0.09\n",
       "[2,] 0.03 0.01\n",
       "[3,] 0.05 0.03"
      ]
     },
     "execution_count": 82,
     "metadata": {},
     "output_type": "execute_result"
    }
   ],
   "source": [
    "matrix(mat, nrow=3)"
   ]
  },
  {
   "cell_type": "code",
   "execution_count": 83,
   "metadata": {
    "collapsed": false
   },
   "outputs": [],
   "source": [
    "# calcul le produit des (1+ri)\n",
    "prod <- function(tab, n){\n",
    "  tmp = 1;\n",
    "  for (i in (1:n)){\n",
    "    tmp = tmp * (1+ 0.01*tab[i]);\n",
    "  }\n",
    "  return(tmp);\n",
    "}\n",
    "\n",
    "\n",
    "#La collection des taux futurs la suite(ri^n)\n",
    "futur <- function(tauxInit, tabTaux, size){\n",
    "    tab <- c();\n",
    "    for( i in (1:size)){\n",
    "        tab = append(tab,0);\n",
    "    }\n",
    "    \n",
    "  tmp = tauxInit;\n",
    "  tab[1] = tauxInit;\n",
    "\n",
    "    for (i in (2:size)){\n",
    "        tmp = (1 + tabTaux[i])**i / ((1 + tauxInit)* prod(tab, size)) - 1;\n",
    "        tab[i] = tmp;\n",
    "      }\n",
    "    \n",
    "  return(matrix(tab, nrow=1))\n",
    "}\n",
    "\n"
   ]
  },
  {
   "cell_type": "code",
   "execution_count": 84,
   "metadata": {
    "collapsed": false
   },
   "outputs": [
    {
     "data": {
      "text/html": [
       "1.000900230015"
      ],
      "text/latex": [
       "1.000900230015"
      ],
      "text/markdown": [
       "1.000900230015"
      ],
      "text/plain": [
       "[1] 1.0009"
      ]
     },
     "execution_count": 84,
     "metadata": {},
     "output_type": "execute_result"
    }
   ],
   "source": [
    "prod(mat, 3)"
   ]
  },
  {
   "cell_type": "code",
   "execution_count": 85,
   "metadata": {
    "collapsed": false
   },
   "outputs": [
    {
     "name": "stdout",
     "output_type": "stream",
     "text": [
      "     [,1]       [,2]      [,3]\n",
      "[1,] 0.03 0.02969109 0.1232372\n"
     ]
    }
   ],
   "source": [
    "print(futur(0.03,mat,3))"
   ]
  },
  {
   "cell_type": "code",
   "execution_count": 131,
   "metadata": {
    "collapsed": false
   },
   "outputs": [],
   "source": [
    "# calcul le produit des (1+ri)\n",
    "prod2 <- function(tab, n, index){\n",
    "  tmp = 1;\n",
    "  for (i in (1:n)){\n",
    "    tmp = tmp * (1+ 0.01*tab[i, index]);\n",
    "  }\n",
    "  return(tmp);\n",
    "}\n",
    "\n",
    "\n",
    "taux<-function(tauxInit, tabTaux, size){\n",
    "    tmp = 0;\n",
    "    mat = matrix(tabTaux, ncol=size)\n",
    "    \n",
    "    tab1 <- c();\n",
    "    for( i in (1:size*size)){\n",
    "        tab1 = append(tab1,0);\n",
    "    }\n",
    "    \n",
    "    tab <- matrix(tab1, ncol=size);\n",
    " \n",
    "    for(j in (2:size)){\n",
    "         tab[1,j] = tauxInit[j];\n",
    "        for (i in (2:size)){\n",
    "            tmp = (1 + tabTaux[j,i])**i / ((1 + tauxInit[j])* prod2(tab, size, index)) - 1;\n",
    "            tab[i,j] = tmp;\n",
    "          }\n",
    "        }\n",
    "}"
   ]
  },
  {
   "cell_type": "code",
   "execution_count": 135,
   "metadata": {
    "collapsed": false
   },
   "outputs": [
    {
     "ename": "ERROR",
     "evalue": "Error in tabTaux[j, i]: incorrect number of dimensions\n",
     "output_type": "error",
     "traceback": [
      "Error in tabTaux[j, i]: incorrect number of dimensions\n"
     ]
    }
   ],
   "source": [
    "tab1 <- c(0.02, 0.05, 0.06, 0.07);\n",
    "tab2 <- c(0.02, 0.06, 0.06, 0.07);\n",
    "tab3 <- c(0.02, 0.07, 0.06, 0.07);\n",
    "tab4 <- c(0.02, 0.07, 0.08, 0.07);\n",
    "\n",
    "mat <- c(tab1, tab2, tab3, tab4);\n",
    "tabInit <- c(0.02, 0.05, 0.06, 0.07); \n",
    "\n",
    "taux(tabInit,mat,4)"
   ]
  },
  {
   "cell_type": "code",
   "execution_count": 136,
   "metadata": {
    "collapsed": false
   },
   "outputs": [
    {
     "data": {
      "text/html": [
       "<ol class=list-inline>\n",
       "\t<li>0.02</li>\n",
       "\t<li>0.05</li>\n",
       "\t<li>0.06</li>\n",
       "\t<li>0.07</li>\n",
       "\t<li>0.02</li>\n",
       "\t<li>0.06</li>\n",
       "\t<li>0.06</li>\n",
       "\t<li>0.07</li>\n",
       "\t<li>0.02</li>\n",
       "\t<li>0.07</li>\n",
       "\t<li>0.06</li>\n",
       "\t<li>0.07</li>\n",
       "\t<li>0.02</li>\n",
       "\t<li>0.07</li>\n",
       "\t<li>0.08</li>\n",
       "\t<li>0.07</li>\n",
       "</ol>\n"
      ],
      "text/latex": [
       "\\begin{enumerate*}\n",
       "\\item 0.02\n",
       "\\item 0.05\n",
       "\\item 0.06\n",
       "\\item 0.07\n",
       "\\item 0.02\n",
       "\\item 0.06\n",
       "\\item 0.06\n",
       "\\item 0.07\n",
       "\\item 0.02\n",
       "\\item 0.07\n",
       "\\item 0.06\n",
       "\\item 0.07\n",
       "\\item 0.02\n",
       "\\item 0.07\n",
       "\\item 0.08\n",
       "\\item 0.07\n",
       "\\end{enumerate*}\n"
      ],
      "text/markdown": [
       "1. 0.02\n",
       "2. 0.05\n",
       "3. 0.06\n",
       "4. 0.07\n",
       "5. 0.02\n",
       "6. 0.06\n",
       "7. 0.06\n",
       "8. 0.07\n",
       "9. 0.02\n",
       "10. 0.07\n",
       "11. 0.06\n",
       "12. 0.07\n",
       "13. 0.02\n",
       "14. 0.07\n",
       "15. 0.08\n",
       "16. 0.07\n",
       "\n",
       "\n"
      ],
      "text/plain": [
       " [1] 0.02 0.05 0.06 0.07 0.02 0.06 0.06 0.07 0.02 0.07 0.06 0.07 0.02 0.07 0.08\n",
       "[16] 0.07"
      ]
     },
     "execution_count": 136,
     "metadata": {},
     "output_type": "execute_result"
    },
    {
     "data": {
      "text/html": [
       "<table>\n",
       "<tbody>\n",
       "\t<tr><td>0.02</td><td>0.02</td><td>0.02</td><td>0.02</td></tr>\n",
       "\t<tr><td>0.05</td><td>0.06</td><td>0.07</td><td>0.07</td></tr>\n",
       "\t<tr><td>0.06</td><td>0.06</td><td>0.06</td><td>0.08</td></tr>\n",
       "\t<tr><td>0.07</td><td>0.07</td><td>0.07</td><td>0.07</td></tr>\n",
       "</tbody>\n",
       "</table>\n"
      ],
      "text/latex": [
       "\\begin{tabular}{llll}\n",
       "\t 0.02 & 0.02 & 0.02 & 0.02\\\\\n",
       "\t 0.05 & 0.06 & 0.07 & 0.07\\\\\n",
       "\t 0.06 & 0.06 & 0.06 & 0.08\\\\\n",
       "\t 0.07 & 0.07 & 0.07 & 0.07\\\\\n",
       "\\end{tabular}\n"
      ],
      "text/markdown": [
       "1. 0.02\n",
       "2. 0.05\n",
       "3. 0.06\n",
       "4. 0.07\n",
       "5. 0.02\n",
       "6. 0.06\n",
       "7. 0.06\n",
       "8. 0.07\n",
       "9. 0.02\n",
       "10. 0.07\n",
       "11. 0.06\n",
       "12. 0.07\n",
       "13. 0.02\n",
       "14. 0.07\n",
       "15. 0.08\n",
       "16. 0.07\n",
       "\n",
       "\n"
      ],
      "text/plain": [
       "     [,1] [,2] [,3] [,4]\n",
       "[1,] 0.02 0.02 0.02 0.02\n",
       "[2,] 0.05 0.06 0.07 0.07\n",
       "[3,] 0.06 0.06 0.06 0.08\n",
       "[4,] 0.07 0.07 0.07 0.07"
      ]
     },
     "execution_count": 136,
     "metadata": {},
     "output_type": "execute_result"
    },
    {
     "data": {
      "text/html": [
       "0.06"
      ],
      "text/latex": [
       "0.06"
      ],
      "text/markdown": [
       "0.06"
      ],
      "text/plain": [
       "[1] 0.06"
      ]
     },
     "execution_count": 136,
     "metadata": {},
     "output_type": "execute_result"
    }
   ],
   "source": [
    "mat\n",
    "m = matrix(mat,ncol=4)\n",
    "m\n",
    "m[3,3]"
   ]
  },
  {
   "cell_type": "code",
   "execution_count": 137,
   "metadata": {
    "collapsed": false
   },
   "outputs": [
    {
     "name": "stdout",
     "output_type": "stream",
     "text": [
      "[1] 1\n",
      "[1] 5\n",
      "[1] 9\n"
     ]
    }
   ],
   "source": [
    "size = 3\n",
    "for(i in (1:size)){\n",
    "        index = (i-1)*size+i;\n",
    "    print(index)\n",
    "    }"
   ]
  },
  {
   "cell_type": "code",
   "execution_count": null,
   "metadata": {
    "collapsed": true
   },
   "outputs": [],
   "source": []
  }
 ],
 "metadata": {
  "kernelspec": {
   "display_name": "R",
   "language": "R",
   "name": "ir"
  },
  "language_info": {
   "codemirror_mode": "r",
   "file_extension": ".r",
   "mimetype": "text/x-r-source",
   "name": "R",
   "pygments_lexer": "r",
   "version": "3.2.2"
  }
 },
 "nbformat": 4,
 "nbformat_minor": 0
}
