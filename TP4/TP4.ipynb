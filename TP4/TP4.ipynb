{
 "cells": [
  {
   "cell_type": "code",
   "execution_count": 118,
   "metadata": {
    "collapsed": true
   },
   "outputs": [],
   "source": [
    "#definition of ech\n",
    "ech<-function(tx, coup, matu, cap){\n",
    "    obli = list(tx, cap, matu, cap*coup)\n",
    "    return(obli);\n",
    "}\n",
    "\n",
    "#cover portfolio\n",
    "cover <- function(obli1, obli2, obli3){\n",
    "    tmp = list(obli1, obli2, obli3);\n",
    "    return(tmp);\n",
    "}\n",
    "\n",
    "#Fisher's formula\n",
    "value <- function(obli){\n",
    "    tx = obli[[1]];\n",
    "    cap = obli[[2]];\n",
    "    matu = obli[[3]];\n",
    "    flux = obli[[4]];\n",
    "    \n",
    "    tmp = 0;\n",
    "    \n",
    "    for (i in (1:matu)){\n",
    "        tmp = tmp + flux/(1+tx)^i;\n",
    "    }\n",
    "    tmp = tmp + cap/(1+tx)^matu;\n",
    "    return(tmp);\n",
    "}\n",
    "\n",
    "#matrix b\n",
    "values<- function(cov){\n",
    "    tmp = list(value(cov[[1]]), value(cov[[2]]), value(cov[[3]]));\n",
    "    vect = matrix(unlist(tmp), nrow=3);\n",
    "    return(vect);\n",
    "}"
   ]
  },
  {
   "cell_type": "code",
   "execution_count": 168,
   "metadata": {
    "collapsed": false
   },
   "outputs": [
    {
     "data": {
      "text/html": [
       "<ol>\n",
       "\t<li>0.03</li>\n",
       "\t<li>100</li>\n",
       "\t<li>5</li>\n",
       "\t<li>5</li>\n",
       "</ol>\n"
      ],
      "text/latex": [
       "\\begin{enumerate}\n",
       "\\item 0.03\n",
       "\\item 100\n",
       "\\item 5\n",
       "\\item 5\n",
       "\\end{enumerate}\n"
      ],
      "text/markdown": [
       "1. 0.03\n",
       "2. 100\n",
       "3. 5\n",
       "4. 5\n",
       "\n",
       "\n"
      ],
      "text/plain": [
       "[[1]]\n",
       "[1] 0.03\n",
       "\n",
       "[[2]]\n",
       "[1] 100\n",
       "\n",
       "[[3]]\n",
       "[1] 5\n",
       "\n",
       "[[4]]\n",
       "[1] 5\n"
      ]
     },
     "execution_count": 168,
     "metadata": {},
     "output_type": "execute_result"
    },
    {
     "data": {
      "text/html": [
       "109.159414374389"
      ],
      "text/latex": [
       "109.159414374389"
      ],
      "text/markdown": [
       "109.159414374389"
      ],
      "text/plain": [
       "[1] 109.1594"
      ]
     },
     "execution_count": 168,
     "metadata": {},
     "output_type": "execute_result"
    }
   ],
   "source": [
    "r = 0.03;\n",
    "coupon = 0.05;\n",
    "\n",
    "e1 = ech(r, coupon, 5, 100);\n",
    "e2 = ech(r, coupon, 3, 200);\n",
    "e3 = ech(r, coupon, 5, 150);\n",
    "e1;\n",
    "\n",
    "value(e1)\n",
    "\n",
    "cov = cover(e1, e2, e3);\n",
    "\n",
    "val = values(cov);"
   ]
  },
  {
   "cell_type": "code",
   "execution_count": 174,
   "metadata": {
    "collapsed": true
   },
   "outputs": [],
   "source": [
    "\n",
    "duration <- function(obli){\n",
    "    tx = obli[[1]];\n",
    "    cap = obli[[2]];\n",
    "    matu = obli[[3]];\n",
    "    flux = obli[[4]];\n",
    "    \n",
    "    tmp = 0;\n",
    "      suiv = list();\n",
    "    T = matu-1;\n",
    "    \n",
    "     for (i in (1:T)){\n",
    "         a = flux*i/(1+tx)^(i);\n",
    "        tmp = tmp + a;\n",
    "         suiv = append(suiv, a);\n",
    "    }\n",
    "    \n",
    "    a = cap*matu/(1+tx)^matu;\n",
    "    tmp = tmp + a;\n",
    "    suiv = append(suiv, a);\n",
    "    res = tmp/value(obli);\n",
    "    \n",
    "    return(res);\n",
    "}\n",
    "\n",
    "sensibility <- function(obli){\n",
    "    tx = obli[[1]];\n",
    "    tmp = -duration(obli)/(1+tx);\n",
    "    return(tmp);\n",
    "}\n",
    "\n",
    "\n",
    "convexity <- function(obli){\n",
    "     tx = obli[[1]];\n",
    "    cap = obli[[2]];\n",
    "    matu = obli[[3]];\n",
    "    flux = obli[[4]];\n",
    "    \n",
    "    tmp = 0;\n",
    "    \n",
    "    suiv = list();\n",
    "     for (i in (1:matu)){\n",
    "        tmp = tmp + flux*i*(1+i)/((1+tx)^(i));\n",
    "       \n",
    "    }    \n",
    "\n",
    "    res = tmp/value(obli);\n",
    "    return(res);\n",
    "}"
   ]
  },
  {
   "cell_type": "code",
   "execution_count": 175,
   "metadata": {
    "collapsed": false
   },
   "outputs": [
    {
     "data": {
      "text/html": [
       "109.159414374389"
      ],
      "text/latex": [
       "109.159414374389"
      ],
      "text/markdown": [
       "109.159414374389"
      ],
      "text/plain": [
       "[1] 109.1594"
      ]
     },
     "execution_count": 175,
     "metadata": {},
     "output_type": "execute_result"
    },
    {
     "data": {
      "text/html": [
       "4.37050334868783"
      ],
      "text/latex": [
       "4.37050334868783"
      ],
      "text/markdown": [
       "4.37050334868783"
      ],
      "text/plain": [
       "[1] 4.370503"
      ]
     },
     "execution_count": 175,
     "metadata": {},
     "output_type": "execute_result"
    },
    {
     "data": {
      "text/html": [
       "-4.24320713464838"
      ],
      "text/latex": [
       "-4.24320713464838"
      ],
      "text/markdown": [
       "-4.24320713464838"
      ],
      "text/plain": [
       "[1] -4.243207"
      ]
     },
     "execution_count": 175,
     "metadata": {},
     "output_type": "execute_result"
    },
    {
     "data": {
      "text/html": [
       "2.85028221277698"
      ],
      "text/latex": [
       "2.85028221277698"
      ],
      "text/markdown": [
       "2.85028221277698"
      ],
      "text/plain": [
       "[1] 2.850282"
      ]
     },
     "execution_count": 175,
     "metadata": {},
     "output_type": "execute_result"
    }
   ],
   "source": [
    "v = value(e1);\n",
    "v\n",
    "duration(e1);\n",
    "sensibility(e1);\n",
    "convexity(e1);"
   ]
  },
  {
   "cell_type": "code",
   "execution_count": 176,
   "metadata": {
    "collapsed": true
   },
   "outputs": [],
   "source": [
    "mat <- function(couv){\n",
    "    n = length(cov);\n",
    "    \n",
    "    tmp = list();\n",
    "    \n",
    "    for(i in (1:n)){\n",
    "        v = value(couv[[i]]);\n",
    "        d = duration(couv[[i]])*v;\n",
    "        c = convexity(couv[[i]])*v;\n",
    "        tmp = append(tmp,list(v, d, c));\n",
    "    }\n",
    " \n",
    "    mat = matrix(unlist(tmp), ncol=3);\n",
    "    return(mat);\n",
    "}\n",
    "\n",
    "\n",
    "lambda <- function(couv){\n",
    "    A = mat(couv);\n",
    "    b = values(couv);\n",
    "    return(solve(A)%*%b);\n",
    "}"
   ]
  },
  {
   "cell_type": "code",
   "execution_count": 177,
   "metadata": {
    "collapsed": false
   },
   "outputs": [
    {
     "data": {
      "text/html": [
       "<table>\n",
       "<tbody>\n",
       "\t<tr><td>109.1594</td><td>211.3144</td><td>163.7391</td></tr>\n",
       "\t<tr><td>477.0816</td><td>577.6457</td><td>715.6224</td></tr>\n",
       "\t<tr><td>311.1351</td><td>185.7902</td><td>466.7027</td></tr>\n",
       "</tbody>\n",
       "</table>\n"
      ],
      "text/latex": [
       "\\begin{tabular}{lll}\n",
       "\t 109.1594 & 211.3144 & 163.7391\\\\\n",
       "\t 477.0816 & 577.6457 & 715.6224\\\\\n",
       "\t 311.1351 & 185.7902 & 466.7027\\\\\n",
       "\\end{tabular}\n"
      ],
      "text/markdown": [
       "1. 109.159414374389\n",
       "2. 477.081586064069\n",
       "3. 311.135137148473\n",
       "4. 211.314445419579\n",
       "5. 577.645651658648\n",
       "6. 185.79022939856\n",
       "7. 163.739121561584\n",
       "8. 715.622379096104\n",
       "9. 466.70270572271\n",
       "\n",
       "\n"
      ],
      "text/plain": [
       "         [,1]     [,2]     [,3]\n",
       "[1,] 109.1594 211.3144 163.7391\n",
       "[2,] 477.0816 577.6457 715.6224\n",
       "[3,] 311.1351 185.7902 466.7027"
      ]
     },
     "execution_count": 177,
     "metadata": {},
     "output_type": "execute_result"
    },
    {
     "ename": "ERROR",
     "evalue": "Error in solve.default(A): system is computationally singular: reciprocal condition number = 2.10063e-17\n",
     "output_type": "error",
     "traceback": [
      "Error in solve.default(A): system is computationally singular: reciprocal condition number = 2.10063e-17\n"
     ]
    },
    {
     "ename": "ERROR",
     "evalue": "Error in solve.default(A): system is computationally singular: reciprocal condition number = 2.10063e-17\n",
     "output_type": "error",
     "traceback": [
      "Error in solve.default(A): system is computationally singular: reciprocal condition number = 2.10063e-17\n"
     ]
    }
   ],
   "source": [
    "A = mat(cov);\n",
    "A\n",
    "lambda(cov)\n",
    "solve(A)\n"
   ]
  },
  {
   "cell_type": "code",
   "execution_count": null,
   "metadata": {
    "collapsed": true
   },
   "outputs": [],
   "source": []
  },
  {
   "cell_type": "code",
   "execution_count": null,
   "metadata": {
    "collapsed": true
   },
   "outputs": [],
   "source": []
  }
 ],
 "metadata": {
  "kernelspec": {
   "display_name": "R",
   "language": "R",
   "name": "ir"
  },
  "language_info": {
   "codemirror_mode": "r",
   "file_extension": ".r",
   "mimetype": "text/x-r-source",
   "name": "R",
   "pygments_lexer": "r",
   "version": "3.2.2"
  }
 },
 "nbformat": 4,
 "nbformat_minor": 0
}
